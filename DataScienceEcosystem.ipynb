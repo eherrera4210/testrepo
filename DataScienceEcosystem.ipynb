{
 "cells": [
  {
   "cell_type": "markdown",
   "id": "300fe355-d6ea-4e4e-87c2-9dcebea0999e",
   "metadata": {},
   "source": [
    "# Data Science Tools and Ecosystem"
   ]
  },
  {
   "cell_type": "markdown",
   "id": "75f73660-b166-4ef8-8bdf-015e95def45b",
   "metadata": {
    "tags": []
   },
   "source": [
    "### In this notebook, Data Science Tools and Ecosystem are summarized."
   ]
  },
  {
   "cell_type": "markdown",
   "id": "07699d25-875f-4c37-88de-0b563b18086e",
   "metadata": {},
   "source": [
    "### Objectives:\n",
    "<li> Popular Language for Data Science\n",
    "<li> Arithmetic expression in Python\n",
    "<li> Using Markdowns in Jupyter Notebook\n",
    "<li> Popular Data Science libraries"
   ]
  },
  {
   "cell_type": "markdown",
   "id": "7ffff495-d6bf-49e6-b650-6950300dc2ad",
   "metadata": {},
   "source": [
    "### Some of the popular language that Data Science use are:\n",
    "<dd> 1. Python\n",
    "<dd> 2. R\n",
    "<dd> 3. SQL"
   ]
  },
  {
   "cell_type": "markdown",
   "id": "5220612e-449e-4260-8faf-bea5084278aa",
   "metadata": {},
   "source": [
    "### Some of the commonly used libraries used by Data Scientist include:\n",
    "<dd> 1. Pandas\n",
    "<dd> 2. Numpy\n",
    "<dd> 3. TensorFlow\n",
    "<dd> 4. PyThorch"
   ]
  },
  {
   "cell_type": "markdown",
   "id": "7761bd24-e45b-4af2-8e50-ca446af7db5d",
   "metadata": {},
   "source": [
    "<table>\n",
    "    <tr>\n",
    "        <th> Data Science Tools\n",
    "    <tr>\n",
    "        <td> Jupyter Notebook\n",
    "    <tr>\n",
    "        <td> R Studio\n",
    "    <tr>\n",
    "        <td> Visual Studio\n",
    "        "
   ]
  },
  {
   "cell_type": "markdown",
   "id": "a1189a51-8db5-42f8-acb8-45683dc64c50",
   "metadata": {},
   "source": [
    "### Below are a few examples of evaluating arithmetic expressions in Python"
   ]
  },
  {
   "cell_type": "code",
   "execution_count": 20,
   "id": "319ec7e1-2363-4fb1-993a-c37ce50e5b76",
   "metadata": {},
   "outputs": [
    {
     "data": {
      "text/plain": [
       "17"
      ]
     },
     "execution_count": 20,
     "metadata": {},
     "output_type": "execute_result"
    }
   ],
   "source": [
    "# This is a simple arithmetic expression to multiply then add integers\n",
    "(3*4)+5"
   ]
  },
  {
   "cell_type": "code",
   "execution_count": 22,
   "id": "2ebfc909-e417-4c72-a336-d9c3d49ca5ea",
   "metadata": {},
   "outputs": [
    {
     "data": {
      "text/plain": [
       "3.3333333333333335"
      ]
     },
     "execution_count": 22,
     "metadata": {},
     "output_type": "execute_result"
    }
   ],
   "source": [
    "# This will convert 200 minutes to hours by diving by 60\n",
    "200/60"
   ]
  },
  {
   "cell_type": "markdown",
   "id": "7e49c0b1-b5e8-43c5-9008-918048e39eb2",
   "metadata": {},
   "source": [
    "## Author\n",
    "<p> Elvis Herrera"
   ]
  },
  {
   "cell_type": "code",
   "execution_count": null,
   "id": "f27ddb27-e2b5-4c04-be89-7b56c6f192b1",
   "metadata": {},
   "outputs": [],
   "source": []
  }
 ],
 "metadata": {
  "kernelspec": {
   "display_name": "anaconda-panel-2023.05-py310",
   "language": "python",
   "name": "conda-env-anaconda-panel-2023.05-py310-py"
  },
  "language_info": {
   "codemirror_mode": {
    "name": "ipython",
    "version": 3
   },
   "file_extension": ".py",
   "mimetype": "text/x-python",
   "name": "python",
   "nbconvert_exporter": "python",
   "pygments_lexer": "ipython3",
   "version": "3.11.5"
  }
 },
 "nbformat": 4,
 "nbformat_minor": 5
}
